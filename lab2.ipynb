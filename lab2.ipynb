{
 "metadata": {
  "language_info": {
   "codemirror_mode": {
    "name": "ipython",
    "version": 3
   },
   "file_extension": ".py",
   "mimetype": "text/x-python",
   "name": "python",
   "nbconvert_exporter": "python",
   "pygments_lexer": "ipython3",
   "version": "3.8.5-final"
  },
  "orig_nbformat": 2,
  "kernelspec": {
   "name": "python3",
   "display_name": "Python 3",
   "language": "python"
  }
 },
 "nbformat": 4,
 "nbformat_minor": 2,
 "cells": [
  {
   "cell_type": "code",
   "execution_count": 5,
   "metadata": {},
   "outputs": [
    {
     "output_type": "stream",
     "name": "stdout",
     "text": [
      "Number is even\n"
     ]
    }
   ],
   "source": [
    "#1.Check whether a number is even or odd\n",
    "num =int(input(\"Enter a number \"))\n",
    "if num%2==0:\n",
    "   print(\"Number is even\")\n",
    "else :\n",
    "   print(\"Number is odd\")"
   ]
  },
  {
   "cell_type": "code",
   "execution_count": 17,
   "metadata": {},
   "outputs": [
    {
     "output_type": "stream",
     "name": "stdout",
     "text": [
      "Year is leap\n"
     ]
    }
   ],
   "source": [
    "#2.Check whether an entered year is leap year or not.\n",
    "year=int(input(\"enter a year\"))\n",
    "if year%4==0:\n",
    "    print (\"Year is leap\")\n",
    "elif year%100==0:\n",
    "    print(\"Year is not leap\")\n",
    "elif year%400==0:\n",
    "    print(\"Year is leap\")\n",
    "else:\n",
    "    print(\"Year is not leap\")\n"
   ]
  },
  {
   "cell_type": "code",
   "execution_count": 8,
   "metadata": {},
   "outputs": [
    {
     "output_type": "stream",
     "name": "stdout",
     "text": [
      "Character is vowel\n"
     ]
    }
   ],
   "source": [
    "#3.Write a program to check whether a character is vowel or consonants.\n",
    "char=input(\"enter a character from a to z\")\n",
    "if (char==\"a\" or char==\" e \"or char==\" i\" or char==\"o\" or char==\"u\" or char==\"A\" or char==\"E\" or char==\"I\" or char==\"O\" or char==\"U\"):\n",
    "    print(\"Character is vowel\")\n",
    "else:\n",
    "    print(\"character is not vowel or not a alphabet\")\n",
    "    ch = input(\"Enter a character: \")\n"
   ]
  },
  {
   "cell_type": "code",
   "execution_count": 9,
   "metadata": {},
   "outputs": [
    {
     "output_type": "stream",
     "name": "stdout",
     "text": [
      "45 is smallest\n"
     ]
    }
   ],
   "source": [
    "#     4. Write a program to find the smallest of two numbers.\n",
    "\t\t\t\t\t\t\n",
    "num1=int(input(\"Enter your first number:\"))\n",
    "num2=int(input(\"Enter your second number: \"))\n",
    "if(num1<num2):\n",
    "    print(\"{} is smallest\".format(num1))\n",
    "elif(num2<num1):\n",
    "    print(\"{} is smallest\".format(num2))\n",
    "else:\n",
    "    print(\"{} and {} are equal\".format(num1,num2))\n",
    "    \n",
    "\n"
   ]
  },
  {
   "cell_type": "code",
   "execution_count": 16,
   "metadata": {},
   "outputs": [
    {
     "output_type": "stream",
     "name": "stdout",
     "text": [
      "factorial of 5 = 120\n"
     ]
    }
   ],
   "source": [
    "#   5.  Find the Factorial of a Number\n",
    "\n",
    "num=int(input('enter a number'))\n",
    "f=1\n",
    "for i in range(1,num+1):\n",
    "  f=f*i\n",
    "print ('factorial of', num, '=',f)"
   ]
  },
  {
   "cell_type": "code",
   "execution_count": 17,
   "metadata": {},
   "outputs": [
    {
     "output_type": "stream",
     "name": "stdout",
     "text": [
      "    * \n   * * \n  * * * \n * * * * \n* * * * * \n"
     ]
    }
   ],
   "source": [
    "\n",
    "#     6.  Write a program to print this patterns\n",
    "\n",
    "#                       * \n",
    "#                      * * \n",
    "#                     * * * \n",
    "#                    * * * * \n",
    "#                   * * * * * \n",
    "\n",
    "def triangle(n):\n",
    "\t\n",
    "\t\n",
    "\tk = n - 1\n",
    "\n",
    "\t\n",
    "\tfor i in range(0, n):\n",
    "\t\n",
    "\t\t\n",
    "\t\tfor j in range(0, k):\n",
    "\t\t\tprint(end=\" \")\n",
    "\t\n",
    "\t\tk = k - 1\n",
    "\t\n",
    "\t\tfor j in range(0, i+1):\n",
    "\t\t\n",
    "\t\t\n",
    "\t\t\tprint(\"* \", end=\"\")\n",
    "\t\n",
    "\t\t\n",
    "\t\tprint(\"\\r\")\n",
    "\n",
    "n = 5\n",
    "triangle(n)\n",
    "\n"
   ]
  },
  {
   "cell_type": "code",
   "execution_count": 18,
   "metadata": {},
   "outputs": [
    {
     "output_type": "stream",
     "name": "stdout",
     "text": [
      "Fibonacci sequence:\n0\n1\n1\n2\n3\n5\n8\n13\n21\n34\n55\n89\n144\n233\n377\n"
     ]
    }
   ],
   "source": [
    " # 7. Write a program to print this series\n",
    "#              1 1 2 3 5 8 13 \n",
    "\n",
    "\n",
    "nterms = int(input(\"How many terms? \"))\n",
    "\n",
    "n1, n2 = 0, 1\n",
    "count = 0\n",
    "\n",
    "if nterms <= 0:\n",
    "   print(\"Please enter a positive integer\")\n",
    "elif nterms == 1:\n",
    "   print(\"Fibonacci sequence upto\",nterms,\":\")\n",
    "   print(n1)\n",
    "else:\n",
    "   print(\"Fibonacci sequence:\")\n",
    "   while count < nterms:\n",
    "       print(n1)\n",
    "       nth = n1 + n2\n",
    "\n",
    "       n1 = n2\n",
    "       n2 = nth\n",
    "       count += 1"
   ]
  },
  {
   "cell_type": "code",
   "execution_count": 20,
   "metadata": {},
   "outputs": [
    {
     "output_type": "stream",
     "name": "stdout",
     "text": [
      "23 is a prime number\n23 is a prime number\n23 is a prime number\n23 is a prime number\n23 is a prime number\n23 is a prime number\n23 is a prime number\n23 is a prime number\n23 is a prime number\n"
     ]
    }
   ],
   "source": [
    "#     8. Check whether a number is prime or not\n",
    "num = int(input(\"Please enter the number: \"))\n",
    "\n",
    "if num > 1:\n",
    "\n",
    "   for i in range(2,num//2):\n",
    "    \n",
    "      if (num % i) == 0:\n",
    "         print(num,\"is not a prime number\")\n",
    "         print(i,\"times\",num//i,\"is\",num)\n",
    "         break\n",
    "      else:\n",
    "     \n",
    "         print(num,\"is a prime number\")\n",
    "\n",
    "else:\n",
    "   print(num,\"is not a prime number\")"
   ]
  },
  {
   "cell_type": "code",
   "execution_count": 25,
   "metadata": {},
   "outputs": [
    {
     "output_type": "stream",
     "name": "stdout",
     "text": [
      "Select an operation.\n",
      "+\n",
      "-\n",
      "*\n",
      "/\n",
      "Invalid input\n"
     ]
    }
   ],
   "source": [
    "#     9. Make a Simple Calculator.\n",
    "\n",
    "def add(a, b):\n",
    "   return a + b\n",
    "\n",
    "def subtract(a, b):\n",
    "   return a - b\n",
    "\n",
    "def multiply(a, b):\n",
    "   return a * b\n",
    "\n",
    "def divide(a, b):\n",
    "    return a / b\n",
    "print(\"Select an operation.\")\n",
    "print(\"+\")\n",
    "print(\"-\")\n",
    "print(\"*\")\n",
    "print(\"/\")\n",
    "# User input\n",
    "choice = input(\"Enter operator to use:\")\n",
    "A = int(input(\"Enter first number: \"))\n",
    "B = int(input(\"Enter second number: \"))\n",
    "if choice == '+':\n",
    "   print(A,\"+\",B,\"=\", add(A,B))\n",
    "elif choice == '-':\n",
    "   print(A,\"-\",B,\"=\", subtract(A,B))\n",
    "elif choice == '*':\n",
    "   print(A,\"*\",B,\"=\", multiply(A,B))\n",
    "elif choice == '/':\n",
    "   print(A,\"/\",B,\"=\", divide(A,B))\n",
    "else:\n",
    "    print(\"Invalid input\")"
   ]
  },
  {
   "cell_type": "code",
   "execution_count": null,
   "metadata": {},
   "outputs": [],
   "source": []
  }
 ]
}