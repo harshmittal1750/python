{
 "metadata": {
  "language_info": {
   "codemirror_mode": {
    "name": "ipython",
    "version": 3
   },
   "file_extension": ".py",
   "mimetype": "text/x-python",
   "name": "python",
   "nbconvert_exporter": "python",
   "pygments_lexer": "ipython3",
   "version": "3.8.6-final"
  },
  "orig_nbformat": 2,
  "kernelspec": {
   "name": "python3",
   "display_name": "Python 3.8.6 64-bit",
   "metadata": {
    "interpreter": {
     "hash": "df0893f56f349688326838aaeea0de204df53a132722cbd565e54b24a8fec5f6"
    }
   }
  }
 },
 "nbformat": 4,
 "nbformat_minor": 2,
 "cells": [
  {
   "cell_type": "code",
   "execution_count": null,
   "metadata": {},
   "outputs": [],
   "source": [
    "\n",
    "\n",
    "# \tMANAV RACHNA UNIVERSITY, FARIDABAD\n",
    "#                         Department of Computer Science  and Technology\n",
    "\n",
    "# Course: B.Tech(CSE)    \t\t\t                                                       Semester:IV                                                                                                                                 Subject:  Programming for Problem Solving using Python(CSW208B)                  Session: 2020-21\n",
    "# Lab 7: Operation on dictionary  : hands-on practice\n",
    "\n",
    "# Learning Outcome CO1:  Student will be able to implement concepts of Dictionary  in Python\n",
    "# Blooms Taxonomy Level: BT1, BT2, BT3\n",
    "# Dictionary\n",
    "\n"
   ]
  },
  {
   "cell_type": "code",
   "execution_count": 3,
   "metadata": {},
   "outputs": [
    {
     "output_type": "stream",
     "name": "stdout",
     "text": [
      "{}\n"
     ]
    }
   ],
   "source": [
    "# 1.Create an empty dictionary\n",
    "emp_dict = {\n",
    "\n",
    "}\n",
    "print(emp_dict)"
   ]
  },
  {
   "cell_type": "code",
   "execution_count": 7,
   "metadata": {},
   "outputs": [
    {
     "output_type": "stream",
     "name": "stdout",
     "text": [
      "{'A': 10, 'B': 20}\n"
     ]
    }
   ],
   "source": [
    "# 2.Create the following dictionary \n",
    "# a.Key\tvalue\n",
    "# b.A\t10\n",
    "# c.B\t20\n",
    "\n",
    "first_dict={\n",
    "    \"A\":10,\n",
    "    \"B\":20\n",
    " \n",
    "}\n",
    "print(first_dict)"
   ]
  },
  {
   "cell_type": "code",
   "execution_count": 8,
   "metadata": {},
   "outputs": [
    {
     "output_type": "stream",
     "name": "stdout",
     "text": [
      "{'int': 1, 'float': 1.2, 'char': 'a', 'str': 'harsh'}\n"
     ]
    }
   ],
   "source": [
    "# 3.Create a dictionary with different datatypes for keys\n",
    "\n",
    "diff_dt_dict={\n",
    "    \"int\":1,\n",
    "    \"float\":1.2,\n",
    "    \"char\":'a',\n",
    "    \"str\":\"harsh\",\n",
    "\n",
    "}\n",
    "print(diff_dt_dict)\n"
   ]
  },
  {
   "cell_type": "code",
   "execution_count": 11,
   "metadata": {},
   "outputs": [
    {
     "output_type": "stream",
     "name": "stdout",
     "text": [
      "dict_keys(['int', 'float', 'char', 'str'])\ndict_values([1, 1.2, 'a', 'harsh'])\n"
     ]
    }
   ],
   "source": [
    "# 4.Print all the items of a dictionary\n",
    "\n",
    "all_dict={\n",
    "    \"int\":1,\n",
    "    \"float\":1.2,\n",
    "    \"char\":'a',\n",
    "    \"str\":\"harsh\",\n",
    "\n",
    "}\n",
    "x=all_dict.keys()\n",
    "y=all_dict.values()\n",
    "\n",
    "\n",
    "print(x)\n",
    "print(y)\n",
    "\n"
   ]
  },
  {
   "cell_type": "code",
   "execution_count": 13,
   "metadata": {},
   "outputs": [
    {
     "output_type": "stream",
     "name": "stdout",
     "text": [
      "{'int': 1, 'float': 1.2, 'str': 'harsh'}\n"
     ]
    }
   ],
   "source": [
    "# 5.Delete an element of a dictionary\n",
    "del_dict={\n",
    "    \"int\":1,\n",
    "    \"float\":1.2,\n",
    "    \"char\":'a',\n",
    "    \"str\":\"harsh\",\n",
    "\n",
    "}\n",
    "\n",
    "del_dict.pop(\"char\")\n",
    "print(del_dict)"
   ]
  },
  {
   "cell_type": "code",
   "execution_count": 24,
   "metadata": {},
   "outputs": [
    {
     "output_type": "stream",
     "name": "stdout",
     "text": [
      "{}\n"
     ]
    }
   ],
   "source": [
    "# 6.Delete full dictionary\n",
    "del_dict={\n",
    "    \"int\":1,\n",
    "    \"float\":1.2,\n",
    "    \"char\":'a',\n",
    "    \"str\":\"harsh\",\n",
    "\n",
    "}\n",
    "del_dict.clear()\n",
    "print(del_dict)"
   ]
  },
  {
   "cell_type": "code",
   "execution_count": 26,
   "metadata": {},
   "outputs": [
    {
     "output_type": "stream",
     "name": "stdout",
     "text": [
      "D.S.R\n"
     ]
    }
   ],
   "source": [
    "# 7.Print a value for a key \n",
    "dic = {\n",
    "  \"brand\": \"void\",\n",
    "  \"model\": \"D.S.R\",\n",
    "  \"year\": 2000\n",
    "}\n",
    "x = dic[\"model\"]\n",
    "print(x)\n"
   ]
  },
  {
   "cell_type": "code",
   "execution_count": 31,
   "metadata": {},
   "outputs": [
    {
     "output_type": "stream",
     "name": "stdout",
     "text": [
      "Yes, 'model' is one of the keys in the dic dictionary\n"
     ]
    }
   ],
   "source": [
    "# 8.To check if a key id present in a dictionary\n",
    "dic = {\n",
    "  \"brand\": \"VOID\",\n",
    "  \"model\": \"D.S.R\",\n",
    "  \"year\": 22000\n",
    "}\n",
    "if \"model\" in dic:\n",
    "  print(\"Yes, 'model' is one of the keys in the dic dictionary\")\n"
   ]
  },
  {
   "cell_type": "code",
   "execution_count": 33,
   "metadata": {},
   "outputs": [
    {
     "output_type": "stream",
     "name": "stdout",
     "text": [
      "{'brand': 'VOID', 'model': 'D.S.R', 'year': 2020}\n"
     ]
    }
   ],
   "source": [
    "# 9.Update a value of a key\n",
    "dic = {\n",
    "  \"brand\": \"VOID\",\n",
    "  \"model\": \"D.S.R\",\n",
    "  \"year\": 2000\n",
    "}\n",
    "dic.update({\"year\": 2020})\n",
    "print(dic)\n"
   ]
  },
  {
   "cell_type": "code",
   "execution_count": 36,
   "metadata": {},
   "outputs": [
    {
     "output_type": "stream",
     "name": "stdout",
     "text": [
      "{'India': 91, 'UK': 44, 'USA': 1}\nAfter adding\n{'India': 91, 'UK': 44, 'USA': 1, 'Spain': 34}\n"
     ]
    }
   ],
   "source": [
    "# 10.Add a new key value pair\n",
    "CountryCodeDict = {\"India\": 91, \"UK\" : 44 , \"USA\" : 1}\n",
    "print(CountryCodeDict)\n",
    "CountryCodeDict[\"Spain\"]= 34\n",
    "print (\"After adding\")\n",
    "print(CountryCodeDict)\n"
   ]
  },
  {
   "cell_type": "code",
   "execution_count": 48,
   "metadata": {},
   "outputs": [
    {
     "output_type": "stream",
     "name": "stdout",
     "text": [
      "\nDictionary =  {1: 1, 2: 4, 3: 9, 4: 16, 5: 25, 6: 36, 7: 49, 8: 64, 9: 81, 10: 100}\n"
     ]
    }
   ],
   "source": [
    "# 11.Print dictionary for keys{1,10} and values as square of keys\n",
    "number = int(input(\"Please enter the Maximum Number : \"))\n",
    "myDict = {}\n",
    "\n",
    "for x in range(1, number + 1):\n",
    "    myDict[x] = x ** 2\n",
    "    \n",
    "print(\"\\nDictionary = \", myDict)\n"
   ]
  },
  {
   "cell_type": "code",
   "execution_count": 46,
   "metadata": {},
   "outputs": [
    {
     "output_type": "stream",
     "name": "stdout",
     "text": [
      "{'child1': {'name': 'harsh', 'year': 2004}, 'child2': {'name': 'yash', 'year': 2007}, 'child3': {'name': 'nikku', 'year': 2011}}\n"
     ]
    }
   ],
   "source": [
    "# 12.Print nested dictionary\n",
    "family={\n",
    "  \"child1\" : {\n",
    "    \"name\" : \"harsh\",\n",
    "    \"year\" : 2004\n",
    "  },\n",
    "  \"child2\" : {\n",
    "    \"name\" : \"yash\",\n",
    "    \"year\" : 2007\n",
    "  },\n",
    "  \"child3\" : {\n",
    "    \"name\" : \"nikku\",\n",
    "    \"year\" : 2011\n",
    "  }\n",
    "}\n",
    "\n",
    "print(family)"
   ]
  },
  {
   "cell_type": "code",
   "execution_count": 45,
   "metadata": {},
   "outputs": [
    {
     "output_type": "stream",
     "name": "stdout",
     "text": [
      "{1: 10, 2: 20, 3: 30, 4: 40, 5: 50, 6: 60}\n"
     ]
    }
   ],
   "source": [
    "# 13.Concatenate three dictionaries\n",
    "# Sample Dictionary :\n",
    "# dic1={1:10, 2:20}\n",
    "# dic2={3:30, 4:40}\n",
    "# dic3={5:50,6:60}# Expected Result : {1: 10, 2: 20, 3: 30, 4: 40, 5: 50, 6: 60}\n",
    "dic1={1:10, 2:20}\n",
    "dic2={3:30, 4:40}\n",
    "dic3={5:50,6:60}\n",
    "dic4 = {}\n",
    "for d in (dic1, dic2, dic3): dic4.update(d)\n",
    "print(dic4)\n"
   ]
  },
  {
   "cell_type": "code",
   "execution_count": 43,
   "metadata": {},
   "outputs": [
    {
     "output_type": "stream",
     "name": "stdout",
     "text": [
      "Sum of dictionary values : 14\n"
     ]
    }
   ],
   "source": [
    "# 14.Sum all the values of a dictionary\n",
    "def Sum(myDict):\n",
    "   sum_ = 0\n",
    "   for i in myDict:\n",
    "      sum_ = sum_ + myDict[i]\n",
    "   return sum_\n",
    "\n",
    "dict = {'T': 1, 'U':2, 'T':3, 'O':4, 'R':5}\n",
    "print(\"Sum of dictionary values :\", Sum(dict))\n"
   ]
  },
  {
   "cell_type": "code",
   "execution_count": 42,
   "metadata": {},
   "outputs": [
    {
     "output_type": "stream",
     "name": "stdout",
     "text": [
      "{'name': 'nikku', 'year': 2011}\n"
     ]
    }
   ],
   "source": [
    "# 15.Accessing an element of a nested dictionary\n",
    "family={\n",
    "  \"child1\" : {\n",
    "    \"name\" : \"harsh\",\n",
    "    \"year\" : 2004\n",
    "  },\n",
    "  \"child2\" : {\n",
    "    \"name\" : \"yash\",\n",
    "    \"year\" : 2007\n",
    "  },\n",
    "  \"child3\" : {\n",
    "    \"name\" : \"nikku\",\n",
    "    \"year\" : 2011\n",
    "  }\n",
    "}\n",
    "\n",
    "x=family[\"child3\"]\n",
    "print(x)"
   ]
  },
  {
   "cell_type": "code",
   "execution_count": 39,
   "metadata": {},
   "outputs": [
    {
     "output_type": "stream",
     "name": "stdout",
     "text": [
      "\nDictionary =  {1: 1, 2: 4, 3: 9, 4: 16, 5: 25, 6: 36, 7: 49, 8: 64, 9: 81, 10: 100, 11: 121, 12: 144, 13: 169, 14: 196, 15: 225}\n"
     ]
    }
   ],
   "source": [
    "# 16.Write a Python script to print a dictionary where the keys are numbers between 1 and 15 (both included) and the values are square of keys.\n",
    "# Sample Dictionary\n",
    "# {1: 1, 2: 4, 3: 9, 4: 16, 5: 25, 6: 36, 7: 49, 8: 64, 9: 81, 10: 100, 11: 121, 12: 144, 13: 169, 14: 196, 15: 225}\n",
    "number = int(input(\"Please enter the Maximum Number : \"))\n",
    "myDict = {}\n",
    "\n",
    "for x in range(1, number + 1):\n",
    "    myDict[x] = x ** 2\n",
    "    \n",
    "print(\"\\nDictionary = \", myDict)"
   ]
  },
  {
   "cell_type": "code",
   "execution_count": 58,
   "metadata": {},
   "outputs": [
    {
     "output_type": "stream",
     "name": "stdout",
     "text": [
      "\nDictionary =  {1: 1, 2: 4, 3: 9, 4: 16, 5: 25}\n"
     ]
    }
   ],
   "source": [
    "# 17.Insert factorial of keys in values. And print dictionary\n",
    "\n",
    "number = int(input(\"Please enter the Maximum Number : \"))\n",
    "myDict = {}\n",
    "\n",
    "for x in range(1, number + 1):\n",
    "    myDict[x] = x ** 2\n",
    "    \n",
    "print(\"\\nDictionary = \", myDict)\n"
   ]
  },
  {
   "cell_type": "code",
   "execution_count": null,
   "metadata": {},
   "outputs": [],
   "source": []
  }
 ]
}