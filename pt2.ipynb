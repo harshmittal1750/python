{
 "metadata": {
  "language_info": {
   "codemirror_mode": {
    "name": "ipython",
    "version": 3
   },
   "file_extension": ".py",
   "mimetype": "text/x-python",
   "name": "python",
   "nbconvert_exporter": "python",
   "pygments_lexer": "ipython3",
   "version": "3.8.6-final"
  },
  "orig_nbformat": 2,
  "kernelspec": {
   "name": "python3",
   "display_name": "Python 3",
   "language": "python"
  }
 },
 "nbformat": 4,
 "nbformat_minor": 2,
 "cells": [
  {
   "cell_type": "code",
   "execution_count": null,
   "metadata": {},
   "outputs": [],
   "source": [
    "# PT2: Python Programming Workshop \n",
    "# Marks: 15\t\t\t\t\t\t\t\tTime: 1.5 hours\n",
    "# Programming Questions:[BT3,CO1,PO2,2.2.4]\n",
    "\n",
    "# Implement following program in python and paste snapshot of coding and output.(4*3=12)\n",
    "\n",
    "\n",
    "\n"
   ]
  },
  {
   "cell_type": "code",
   "execution_count": 20,
   "metadata": {},
   "outputs": [
    {
     "output_type": "stream",
     "name": "stdout",
     "text": [
      "Prime numbers between 400 and 500 are:\n401\n409\n419\n421\n431\n433\n439\n443\n449\n457\n461\n463\n467\n479\n487\n491\n499\n"
     ]
    }
   ],
   "source": [
    "# 1.Write a Python program to find all prime numbers between given range using functions.\n",
    "\n",
    "first=int(input(\"Enter first number\"))\n",
    "second=int(input(\"Enter second number\"))\n",
    "\n",
    "print(\"Prime numbers between\", first, \"and\", second, \"are:\")\n",
    "\n",
    "for num in range(first, second + 1):\n",
    "  \n",
    "   if num > 1:\n",
    "       for i in range(2, num):\n",
    "           if (num % i) == 0:\n",
    "               break\n",
    "       else:\n",
    "           print(num)"
   ]
  },
  {
   "cell_type": "code",
   "execution_count": 6,
   "metadata": {},
   "outputs": [
    {
     "output_type": "stream",
     "name": "stdout",
     "text": [
      "{1: 100, 2: 200, 3: 300, 4: 400, 5: 500, 6: 600}\n"
     ]
    }
   ],
   "source": [
    "# 2.Write a Python program to concatenate following dictionaries to create a new one.\n",
    "\n",
    "# d1={1:100, 2:200}\n",
    "#    d2={3:300, 4:400}\n",
    "#    d3={5:500, 6:600}\t\n",
    "d1={1:100, 2:200}\n",
    "d2={3:300, 4:400}\n",
    "d3={5:500,6:600}\n",
    "d4 = {}\n",
    "for d in (d1, d2, d3): d4.update(d)\n",
    "print(d4)\n"
   ]
  },
  {
   "cell_type": "code",
   "execution_count": 11,
   "metadata": {},
   "outputs": [
    {
     "output_type": "stream",
     "name": "stdout",
     "text": [
      "{'z': 10, 'l': 50, 'c': 74, 'm': 12, 'f': 44, 'g': 19}\nTrue\nTrue\n"
     ]
    }
   ],
   "source": [
    "# 3.Write a Python program to check if a given key already exists in a dictionary. \n",
    "# Python3 Program to check whether a\n",
    "# given key already exists in a dictionary.\n",
    "\n",
    "x = {'z': 10, 'l': 50, 'c': 74, 'm': 12, 'f': 44, 'g': 19}\n",
    " \n",
    "print(x)\n",
    " \n",
    "if 'z' in x.keys():\n",
    "    print(\"True\")\n",
    "else:\n",
    "    print(\"False\")\n",
    " \n",
    "\n",
    "msg = \"True\" if 'z' in x else \"False\"\n",
    "print(msg)\n"
   ]
  },
  {
   "cell_type": "code",
   "execution_count": 12,
   "metadata": {},
   "outputs": [
    {
     "output_type": "stream",
     "name": "stdout",
     "text": [
      "{40, 50, 30}\n"
     ]
    }
   ],
   "source": [
    "# 4.WAP in Python to Return a new set of identical items from a given two set\n",
    "# set1 = {10, 20, 30, 40, 50}\n",
    "# set2 = {30, 40, 50, 60, 70}\n",
    "# o/p : {40, 50, 30}\n",
    "set1 = {10, 20, 30, 40, 50}\n",
    "set2 = {30, 40, 50, 60, 70}\n",
    "\n",
    "print(set1.intersection(set2))"
   ]
  },
  {
   "cell_type": "code",
   "execution_count": 24,
   "metadata": {},
   "outputs": [
    {
     "output_type": "stream",
     "name": "stdout",
     "text": [
      "[1, 2, 2, 3, 4, 5]\n"
     ]
    },
    {
     "output_type": "error",
     "ename": "TypeError",
     "evalue": "'NoneType' object is not callable",
     "traceback": [
      "\u001b[0;31m---------------------------------------------------------------------------\u001b[0m",
      "\u001b[0;31mTypeError\u001b[0m                                 Traceback (most recent call last)",
      "\u001b[0;32m<ipython-input-24-3eadbd9b4cb0>\u001b[0m in \u001b[0;36m<module>\u001b[0;34m\u001b[0m\n\u001b[1;32m      5\u001b[0m \u001b[0mxset\u001b[0m\u001b[0;34m=\u001b[0m\u001b[0;34m(\u001b[0m\u001b[0;34m[\u001b[0m\u001b[0;36m1\u001b[0m\u001b[0;34m,\u001b[0m\u001b[0;36m2\u001b[0m\u001b[0;34m,\u001b[0m\u001b[0;36m2\u001b[0m\u001b[0;34m,\u001b[0m\u001b[0;36m3\u001b[0m\u001b[0;34m,\u001b[0m\u001b[0;36m4\u001b[0m\u001b[0;34m,\u001b[0m\u001b[0;36m5\u001b[0m\u001b[0;34m]\u001b[0m\u001b[0;34m)\u001b[0m\u001b[0;34m\u001b[0m\u001b[0;34m\u001b[0m\u001b[0m\n\u001b[1;32m      6\u001b[0m \u001b[0;34m\u001b[0m\u001b[0m\n\u001b[0;32m----> 7\u001b[0;31m \u001b[0mprint\u001b[0m\u001b[0;34m(\u001b[0m\u001b[0mxset\u001b[0m\u001b[0;34m)\u001b[0m                           \u001b[0;34m(\u001b[0m\u001b[0;36m1\u001b[0m\u001b[0;34m)\u001b[0m\u001b[0;34m\u001b[0m\u001b[0;34m\u001b[0m\u001b[0m\n\u001b[0m\u001b[1;32m      8\u001b[0m \u001b[0;34m\u001b[0m\u001b[0m\n\u001b[1;32m      9\u001b[0m \u001b[0;31m# 2.What is the difference between  difference() and difference_update()        [0.5]\u001b[0m\u001b[0;34m\u001b[0m\u001b[0;34m\u001b[0m\u001b[0;34m\u001b[0m\u001b[0m\n",
      "\u001b[0;31mTypeError\u001b[0m: 'NoneType' object is not callable"
     ]
    }
   ],
   "source": [
    "\n",
    "# Viva Voice:\n",
    "# Answer the following question (word doc)  [ BT2,CO2,PO1 -1.4.1]\n",
    "# 1.Which one of the following is not the correct syntax for creating a set in Python?\n",
    "\n",
    "         \n",
    "\n",
    "                                       (\n",
    "# 2.What is the difference between  difference() and difference_update()\t[0.5]\n",
    "# 3.Differentiate union() and update method         [1]\n",
    "# 4.Differentiate pop(),del and popitem() method\t\t\t[0.5]\n"
   ]
  },
  {
   "cell_type": "code",
   "execution_count": null,
   "metadata": {},
   "outputs": [],
   "source": []
  }
 ]
}