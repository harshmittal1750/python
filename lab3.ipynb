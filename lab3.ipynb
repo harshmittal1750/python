{
 "metadata": {
  "language_info": {
   "codemirror_mode": {
    "name": "ipython",
    "version": 3
   },
   "file_extension": ".py",
   "mimetype": "text/x-python",
   "name": "python",
   "nbconvert_exporter": "python",
   "pygments_lexer": "ipython3",
   "version": "3.8.5-final"
  },
  "orig_nbformat": 2,
  "kernelspec": {
   "name": "python3",
   "display_name": "Python 3.8.5 64-bit ('base': conda)",
   "metadata": {
    "interpreter": {
     "hash": "be67cd43e98b536de1238435ac53ac97319d80013bc3a02685b259657cb01937"
    }
   }
  }
 },
 "nbformat": 4,
 "nbformat_minor": 2,
 "cells": [
  {
   "cell_type": "code",
   "execution_count": 14,
   "metadata": {
    "tags": []
   },
   "outputs": [
    {
     "output_type": "stream",
     "name": "stdout",
     "text": [
      "bye harsh\n"
     ]
    }
   ],
   "source": [
    "# 1.WAP  to demonstrate while loop with else statement.\n",
    "\n",
    "num=float(input(\"enter a number\"))\n",
    "while(num>=10):\n",
    "    print(\"hello harsh\")\n",
    "else:\n",
    "    print(\"bye harsh\")"
   ]
  },
  {
   "cell_type": "code",
   "execution_count": 24,
   "metadata": {},
   "outputs": [
    {
     "output_type": "stream",
     "name": "stdout",
     "text": [
      "2\n4\n6\n8\n10\n"
     ]
    }
   ],
   "source": [
    " # 2. Print 1st 5 even numbers (use break statement).\n",
    "num = 1\n",
    "i= 0\n",
    "while num:\n",
    "    if num % 2 == 0:\n",
    "        print(num)\n",
    "        i+=1\n",
    "    elif i == 5:\n",
    "        break\n",
    "    num += 1\n"
   ]
  },
  {
   "cell_type": "code",
   "execution_count": 2,
   "metadata": {},
   "outputs": [
    {
     "output_type": "stream",
     "name": "stdout",
     "text": [
      "2\n4\n6\n8\n"
     ]
    }
   ],
   "source": [
    " # 3. Print 1st 4 even numbers (use continue statement).\n",
    "for i in range(1, 10):\n",
    "    if (i%2 == 0):\n",
    "        if(i < 10):\n",
    "            print(i)\n",
    "    else:\n",
    "        continue\n",
    "   "
   ]
  },
  {
   "cell_type": "code",
   "execution_count": 4,
   "metadata": {},
   "outputs": [
    {
     "output_type": "stream",
     "name": "stdout",
     "text": [
      "114121\n134121\n43255642341289\n"
     ]
    }
   ],
   "source": [
    " # 4. WAP  to demonstrate Pass statements.\n",
    " for num in [314, 114121, 24124, 625136, 134121,43255642341289, 56345244]:\n",
    "    if num%2 == 0:\n",
    "        pass\n",
    "    else:\n",
    "        print(num)\n",
    "   "
   ]
  },
  {
   "cell_type": "code",
   "execution_count": 12,
   "metadata": {},
   "outputs": [
    {
     "output_type": "stream",
     "name": "stdout",
     "text": [
      "length of string is:7\n"
     ]
    }
   ],
   "source": [
    " # 5. Write a Python program to calculate the length of a string. \n",
    " num=str(input(\"enter a string(word)\"))\n",
    " print(\"length of string is:{}\" .format(len(num)))\n",
    "   "
   ]
  },
  {
   "cell_type": "code",
   "execution_count": null,
   "metadata": {},
   "outputs": [],
   "source": [
    " # 6. Write a Python program to count the number of characters (character frequency) in a string\n",
    "  "
   ]
  },
  {
   "cell_type": "code",
   "execution_count": null,
   "metadata": {},
   "outputs": [],
   "source": [
    "  # 7. Write a Python program to get a string made of the first 2 and the last 2 chars from a given a string. If the string length is less than 2, return instead of the empty string.\n",
    "    "
   ]
  },
  {
   "cell_type": "code",
   "execution_count": null,
   "metadata": {},
   "outputs": [],
   "source": [
    "# 8. Write a Python program to get a string from a given string where all occurrences of its first char have been changed to '$', except the first char itself\n",
    "   "
   ]
  },
  {
   "cell_type": "code",
   "execution_count": null,
   "metadata": {},
   "outputs": [],
   "source": [
    " # 9. Write a Python program to get a single string from two given strings, separated by a space and swap the first two characters of each string. \n",
    "   "
   ]
  },
  {
   "cell_type": "code",
   "execution_count": null,
   "metadata": {},
   "outputs": [],
   "source": [
    " # 10. Write a Python program to add 'ing' at the end of a given string (length should be at least 3). If the given string already ends with 'ing' then add 'ly' instead. If the string length of the given string is less than 3, leave it unchanged"
   ]
  }
 ]
}