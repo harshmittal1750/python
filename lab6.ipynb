{
 "metadata": {
  "language_info": {
   "codemirror_mode": {
    "name": "ipython",
    "version": 3
   },
   "file_extension": ".py",
   "mimetype": "text/x-python",
   "name": "python",
   "nbconvert_exporter": "python",
   "pygments_lexer": "ipython3",
   "version": 3
  },
  "orig_nbformat": 2
 },
 "nbformat": 4,
 "nbformat_minor": 2,
 "cells": [
  {
   "cell_type": "code",
   "execution_count": null,
   "metadata": {},
   "outputs": [],
   "source": [
    "\n",
    "\n",
    "#                           \tMANAV RACHNA UNIVERSITY, FARIDABAD\n",
    "#                         Department of Computer Science  and Technology\n",
    "\n",
    "# Course: B.Tech(CSE)    \t\t\t                                                       Semester:IV                                                                                                                                 Subject:  Programming for Problem Solving using Python(CSW208B)                  Session: 2020-21\n",
    "#                           Lab 6: Operation on Sets : hands-on practice\n",
    "\n",
    "# Learning Outcome CO1:  Student will be able to implement concepts of  Sets in Python\n",
    "# Blooms Taxonomy Level: BT1, BT2, BT3\n",
    "# Sets\n",
    "\n",
    "\n"
   ]
  },
  {
   "cell_type": "code",
   "execution_count": null,
   "metadata": {},
   "outputs": [],
   "source": [
    "# Consider the sets: set1 = {10, 20, 30, 40, 50}\n",
    "# set2 = {30, 40, 50, 60, 70}\n",
    "\n",
    "#     1. Write a program to create two sets Set1 and Set2 as above.\n",
    "\n"
   ]
  },
  {
   "cell_type": "code",
   "execution_count": null,
   "metadata": {},
   "outputs": [],
   "source": [
    "#     2. Write a program to add an element 80 to set2.\n"
   ]
  },
  {
   "cell_type": "code",
   "execution_count": null,
   "metadata": {},
   "outputs": [],
   "source": [
    "#     3. Write a Python program to create a union of set1 and set2.\n"
   ]
  },
  {
   "cell_type": "code",
   "execution_count": null,
   "metadata": {},
   "outputs": [],
   "source": [
    "#     4. Write a Python program to clear a set1\n"
   ]
  },
  {
   "cell_type": "code",
   "execution_count": null,
   "metadata": {},
   "outputs": [],
   "source": [
    "#     5. Add a list of elements to a given set\n",
    "# sampleSet = {\"Yellow\", \"Orange\", \"Black\"}\n",
    "# sampleList = [\"Blue\", \"Green\", \"Red\"]\n",
    "# Expected output:\n",
    "# In set item order is not a concern\n",
    "# {'Green', 'Yellow', 'Black', 'Orange', 'Red', 'Blue'}\n",
    "\n"
   ]
  },
  {
   "cell_type": "code",
   "execution_count": null,
   "metadata": {},
   "outputs": [],
   "source": [
    "#     6. Write a program to find length of a set1.\n"
   ]
  },
  {
   "cell_type": "code",
   "execution_count": null,
   "metadata": {},
   "outputs": [],
   "source": [
    "#     7. Write a program to remove 30 from  set2.\n"
   ]
  },
  {
   "cell_type": "code",
   "execution_count": null,
   "metadata": {},
   "outputs": [],
   "source": [
    "#     8. WAP to Returns a new set with all items from both sets by removing duplicates\n",
    "\n"
   ]
  },
  {
   "cell_type": "code",
   "execution_count": null,
   "metadata": {},
   "outputs": [],
   "source": [
    "#     9. Write a program to pop an element from a set"
   ]
  },
  {
   "cell_type": "code",
   "execution_count": null,
   "metadata": {},
   "outputs": [],
   "source": [
    "#     10. Return a set of identical items from a given two Python set\n",
    "# set1 = {10, 20, 30, 40, 50}\n",
    "# set2 = {30, 40, 50, 60, 70}\n",
    "# Expected output:\n",
    "# {40, 50, 30}\n",
    "\n"
   ]
  },
  {
   "cell_type": "code",
   "execution_count": null,
   "metadata": {},
   "outputs": [],
   "source": [
    "#     11. Determines whether or not the following two sets have any elements in common. If yes display the common elements\n",
    "# set1 = {10, 20, 30, 40, 50}\n",
    "# set2 = {60, 70, 80, 90, 10}\n",
    "# Expected output:\n",
    "# Two sets have items in common\n",
    "# {10}\n"
   ]
  },
  {
   "cell_type": "code",
   "execution_count": null,
   "metadata": {},
   "outputs": [],
   "source": [
    "#     12. Return a set of all elements in either A or B, but not both\n",
    "# set1 = {10, 20, 30, 40, 50}\n",
    "# set2 = {30, 40, 50, 60, 70}\n",
    "# Expected output:\n",
    "# {20, 70, 10, 60}\n"
   ]
  },
  {
   "cell_type": "code",
   "execution_count": null,
   "metadata": {},
   "outputs": [],
   "source": [
    "#     13. Given two Python sets, update first set with items that exist only in the first set and not in the second set.\n",
    "# set1 = {10, 20, 30}\n",
    "# set2 = {20, 40, 50}\n",
    "# Expected output:\n",
    "# set1 = {10, 30}"
   ]
  },
  {
   "cell_type": "code",
   "execution_count": null,
   "metadata": {},
   "outputs": [],
   "source": [
    "#     14. Remove 10, 20, 30 elements from a following set at once\n",
    "# set1 = {10, 20, 30, 40, 50}\n",
    "# Expected output:\n",
    "# {40, 50}\n"
   ]
  },
  {
   "cell_type": "code",
   "execution_count": null,
   "metadata": {},
   "outputs": [],
   "source": [
    "#     15. Update set1 by adding items from set2, except common items\n",
    "# set1 = {10, 20, 30, 40, 50}\n",
    "# set2 = {30, 40, 50, 60, 70}\n",
    "# Expected output:\n",
    "# {70, 10, 20, 60}\n"
   ]
  },
  {
   "cell_type": "code",
   "execution_count": null,
   "metadata": {},
   "outputs": [],
   "source": [
    "#     16. Remove items from set1 that are not common to both set1 and set2\n",
    "# set1 = {10, 20, 30, 40, 50}\n",
    "# set2 = {30, 40, 50, 60, 70}\n",
    "# Expected output:\n",
    "# {40, 50, 30}\n"
   ]
  }
 ]
}