{
 "metadata": {
  "language_info": {
   "codemirror_mode": {
    "name": "ipython",
    "version": 3
   },
   "file_extension": ".py",
   "mimetype": "text/x-python",
   "name": "python",
   "nbconvert_exporter": "python",
   "pygments_lexer": "ipython3",
   "version": "3.8.5-final"
  },
  "orig_nbformat": 2,
  "kernelspec": {
   "name": "python3",
   "display_name": "Python 3",
   "language": "python"
  }
 },
 "nbformat": 4,
 "nbformat_minor": 2,
 "cells": [
  {
   "cell_type": "code",
   "execution_count": 3,
   "metadata": {},
   "outputs": [
    {
     "output_type": "stream",
     "name": "stdout",
     "text": [
      "(23214, 653, 'geg', 244, 543, 't2grg', 's', 'fggd', 'gd', 'ghdh', 'rh')\n"
     ]
    }
   ],
   "source": [
    "    # 1. Write a Python program to create a tuple. \n",
    "tup=(23214,653,\"geg\",244,543,\"t2grg\",'s',\"fggd\",\"gd\",\"ghdh\",\"rh\") \n",
    "print(tup)\n",
    "   "
   ]
  },
  {
   "cell_type": "code",
   "execution_count": 5,
   "metadata": {},
   "outputs": [
    {
     "output_type": "stream",
     "name": "stdout",
     "text": [
      "(23214, True, 'harsh', 23.14, 'c', False, '')\n"
     ]
    }
   ],
   "source": [
    " # 2. Write a Python program to create a tuple with different data types.  \n",
    " tup=(23214,True,\"harsh\",23.14,'c',False,\"\") \n",
    "print(tup)"
   ]
  },
  {
   "cell_type": "code",
   "execution_count": 7,
   "metadata": {},
   "outputs": [
    {
     "output_type": "stream",
     "name": "stdout",
     "text": [
      "343\n"
     ]
    }
   ],
   "source": [
    "  # 3. Write a Python program to create a tuple with numbers and print one item.  \n",
    "tup=(23214,343,536,3,41,454,5,4,54) \n",
    "print(tup[1])\n"
   ]
  },
  {
   "cell_type": "code",
   "execution_count": 11,
   "metadata": {},
   "outputs": [
    {
     "output_type": "stream",
     "name": "stdout",
     "text": [
      "(24, 812, 3)\n839\n"
     ]
    }
   ],
   "source": [
    "    # 4. Write a Python program to unpack a tuple in several variables.  \n",
    "\n",
    "tup = 24, 812, 3\n",
    "print(tup)\n",
    "n1, n2, n3 = tup\n",
    "\n",
    "print(n1 + n2 + n3) \n",
    "\n",
    "n1, n2, n3= tup\n",
    "   "
   ]
  },
  {
   "cell_type": "code",
   "execution_count": 12,
   "metadata": {},
   "outputs": [
    {
     "output_type": "stream",
     "name": "stdout",
     "text": [
      "(12, 17, 16, 4, 13, 1)\n(12, 17, 16, 4, 13, 1, 9)\n(12, 17, 16, 4, 13, 15, 20, 25, 12, 17, 16, 4, 13)\n(12, 17, 16, 4, 13, 15, 20, 25, 12, 17, 16, 4, 13, 30)\n"
     ]
    }
   ],
   "source": [
    " # 5. Write a Python program to add an item in a tuple.  \n",
    "\n",
    "tup = (12,17,16, 4, 13, 1) \n",
    "print(tup)\n",
    "\n",
    "tup= tup + (9,)\n",
    "print(tup)\n",
    "\n",
    "tup = tup[:5] + (15, 20, 25) + tup[:5]\n",
    "print(tup)\n",
    "\n",
    "lst = list(tup) \n",
    "\n",
    "lst.append(30)\n",
    "tup = tuple(lst)\n",
    "print(tup)\n",
    "\n",
    "  \n"
   ]
  },
  {
   "cell_type": "code",
   "execution_count": 22,
   "metadata": {},
   "outputs": [
    {
     "output_type": "stream",
     "name": "stdout",
     "text": [
      "Hello harsh mittal\n"
     ]
    }
   ],
   "source": [
    "  # 6. Write a Python program to convert a tuple to a string.  \n",
    "tup=(\"Hello\",\" \",\"harsh\",\" \",\"mittal\")\n",
    "str=''.join(tup)\n",
    "print(str)"
   ]
  },
  {
   "cell_type": "code",
   "execution_count": 25,
   "metadata": {},
   "outputs": [
    {
     "output_type": "stream",
     "name": "stdout",
     "text": [
      "5\n"
     ]
    }
   ],
   "source": [
    "# 7. Write a Python program to get the 4th element from last of a tuple\n",
    "tup=(1,2,3,4,5,6,7,8)\n",
    "print(tup[-4])\n",
    "  "
   ]
  },
  {
   "cell_type": "code",
   "execution_count": 37,
   "metadata": {},
   "outputs": [
    {
     "output_type": "stream",
     "name": "stdout",
     "text": [
      "1\n3\n32\n1\n1\n1\n32\n3\n"
     ]
    }
   ],
   "source": [
    "  # 8. Write a Python program to find the repeated items of a tuple.  \n",
    "\n",
    "tup=(1,3,4,32,1,1,1,31,32,12,21,2,3)  \n",
    "for i in tup:\n",
    "    if tup.count(i) > 1:\n",
    "        print(i)"
   ]
  },
  {
   "cell_type": "code",
   "execution_count": 39,
   "metadata": {},
   "outputs": [
    {
     "output_type": "stream",
     "name": "stdout",
     "text": [
      "True\nTrue\n"
     ]
    }
   ],
   "source": [
    " # 9. Write a Python program to check whether an element exists within a tuple.  \n",
    "  \n",
    "tup = (\"h\",\"a\",\"r\",\"s\",\"h\")\n",
    "print(\"r\" in tup)\n",
    "print(\"h\" in tup)"
   ]
  },
  {
   "cell_type": "code",
   "execution_count": 40,
   "metadata": {},
   "outputs": [
    {
     "output_type": "stream",
     "name": "stdout",
     "text": [
      "(1, 2, 3, 4)\n"
     ]
    }
   ],
   "source": [
    "  # 10. Write a Python program to convert a list to a tuple.  \n",
    " \n",
    "def convert(list): \n",
    "\treturn tuple(list) \n",
    "\n",
    "\n",
    "list = [1, 2, 3, 4] \n",
    "print(convert(list)) \n"
   ]
  },
  {
   "cell_type": "code",
   "execution_count": 42,
   "metadata": {},
   "outputs": [
    {
     "output_type": "stream",
     "name": "stdout",
     "text": [
      "['3afqdw', 'wqfdcd', 32, 'edq']\n"
     ]
    }
   ],
   "source": [
    " # 11. Write a Python program to remove an item from a tuple.  \n",
    "lst=[23,\"3afqdw\",\"wqfdcd\",32,\"edq\"]\n",
    "  \n",
    "lst.pop(0)\n",
    "print(lst)\n",
    "    "
   ]
  },
  {
   "cell_type": "code",
   "execution_count": 44,
   "metadata": {},
   "outputs": [
    {
     "output_type": "execute_result",
     "data": {
      "text/plain": [
       "[('11', '12'), ('21', '22'), ('31', '32'), ('41', '42')]"
      ]
     },
     "metadata": {},
     "execution_count": 44
    }
   ],
   "source": [
    "# 12. Write a Python program to slice a tuple \n",
    "list_of_tuples = [('11','12','13'),('21','22','23'),('31','32','33'),('41','42','43')]\n",
    "new_list = [item[:2] for item in list_of_tuples]\n",
    "new_list\n",
    "[('11', '12'), ('21', '22'), ('31', '32'), ('41', '42')]\n"
   ]
  },
  {
   "cell_type": "code",
   "execution_count": 54,
   "metadata": {},
   "outputs": [
    {
     "output_type": "stream",
     "name": "stdout",
     "text": [
      "3\n"
     ]
    }
   ],
   "source": [
    "  # 13. Write a Python program to find the index of an item of a tuple.  \n",
    "\n",
    "tup = (1, 3, 7, 8, 7, 5, 4, 6, 8, 5)\n",
    "\n",
    "x = tup.index(8)\n",
    "\n",
    "print(x)"
   ]
  },
  {
   "cell_type": "code",
   "execution_count": 55,
   "metadata": {},
   "outputs": [
    {
     "output_type": "stream",
     "name": "stdout",
     "text": [
      "24\n"
     ]
    }
   ],
   "source": [
    "   # 14. Write a Python program to find the length of a tuple.  \n",
    "tup=(1,21,23,1431,4,214,2,5,5125215,1,5,42,2,2,54125,421,5,3,25,436356,3452,41231,452,65)\n",
    "print(len(tup))"
   ]
  },
  {
   "cell_type": "code",
   "execution_count": 60,
   "metadata": {},
   "outputs": [
    {
     "output_type": "error",
     "ename": "SyntaxError",
     "evalue": "unmatched ')' (<ipython-input-60-ddf50a6dac37>, line 3)",
     "traceback": [
      "\u001b[0;36m  File \u001b[0;32m\"<ipython-input-60-ddf50a6dac37>\"\u001b[0;36m, line \u001b[0;32m3\u001b[0m\n\u001b[0;31m    put=reversed(tup))\u001b[0m\n\u001b[0m                     ^\u001b[0m\n\u001b[0;31mSyntaxError\u001b[0m\u001b[0;31m:\u001b[0m unmatched ')'\n"
     ]
    }
   ],
   "source": [
    "# 15. Write a Python program to reverse a tuple. \n",
    "tup=(\"harsh\")\n",
    "put=reversed(tup)\n",
    "print(tuple(put))"
   ]
  },
  {
   "cell_type": "code",
   "execution_count": null,
   "metadata": {},
   "outputs": [],
   "source": []
  }
 ]
}