{
 "metadata": {
  "language_info": {
   "codemirror_mode": {
    "name": "ipython",
    "version": 3
   },
   "file_extension": ".py",
   "mimetype": "text/x-python",
   "name": "python",
   "nbconvert_exporter": "python",
   "pygments_lexer": "ipython3",
   "version": 3
  },
  "orig_nbformat": 2
 },
 "nbformat": 4,
 "nbformat_minor": 2,
 "cells": [
  {
   "cell_type": "code",
   "execution_count": null,
   "metadata": {},
   "outputs": [],
   "source": [
    "\n",
    "# MANAV RACHNA UNIVERSITY, FARIDABAD\n",
    "# Department of Computer & Technology\n",
    "\n",
    "# Course: B.Tech (CST)    \t\t\t                                                       Semester: IV                                                                                                                                 Subject:  Programming for Problem Solving using Python(CSW208B)                 Session: 2020-21\n",
    "\n",
    "# Lab-7: Function- Pass by reference: hands-on practice\n",
    "\n",
    "# Learning Outcome CO:  Student will be able to implement Functions\n",
    "# Blooms Taxonomy Level: BT1,BT3,BT3\n",
    "# Functions\n",
    "\n",
    "\n",
    "\n",
    "\n"
   ]
  },
  {
   "cell_type": "code",
   "execution_count": null,
   "metadata": {},
   "outputs": [],
   "source": [
    "# 1.Write a program to multiply two numbers using functions.\n"
   ]
  },
  {
   "cell_type": "code",
   "execution_count": null,
   "metadata": {},
   "outputs": [],
   "source": [
    "# 2.Write a program to add two numbers using functions.\n"
   ]
  },
  {
   "cell_type": "code",
   "execution_count": null,
   "metadata": {},
   "outputs": [],
   "source": [
    "# 3.Calculate factorial of a number using function.\n"
   ]
  },
  {
   "cell_type": "code",
   "execution_count": null,
   "metadata": {},
   "outputs": [],
   "source": [
    "# 4.Create sequence of Fibonacci using function.\n"
   ]
  },
  {
   "cell_type": "code",
   "execution_count": null,
   "metadata": {},
   "outputs": [],
   "source": [
    "# 5.Write a program to swapping of two numbers using functions.\n"
   ]
  },
  {
   "cell_type": "code",
   "execution_count": null,
   "metadata": {},
   "outputs": [],
   "source": [
    "# 6.Write a function to find the HCF of some given numbers.\n"
   ]
  },
  {
   "cell_type": "code",
   "execution_count": null,
   "metadata": {},
   "outputs": [],
   "source": [
    "# 7.Write a function to find the ASCII value of the character."
   ]
  },
  {
   "cell_type": "code",
   "execution_count": null,
   "metadata": {},
   "outputs": [],
   "source": [
    "# 8.Write a function func1() such that it can accept a variable length of  argument and print all arguments value\n",
    "# func1(20, 40, 60)\n",
    "# func1(80, 100)\n",
    "# Expected Output:\n",
    "# func1(20, 40, 60)\n",
    "# 20\n",
    "# 40\n",
    "# 60\n",
    "# func1(80, 100)\n",
    "# 9.80\n",
    "# 10.100\n",
    "\n",
    "\n",
    "#"
   ]
  },
  {
   "cell_type": "code",
   "execution_count": null,
   "metadata": {},
   "outputs": [],
   "source": [
    " #9.Write a function calculation () such that it can accept two variables and calculate the addition and subtraction of them. And also it must return both addition and subtraction in a single return call\n",
    "# def calculation(a, b):\n",
    "#      Your Code\n",
    "\n",
    "# res = calculation(40, 10)\n",
    "# print(res)\n",
    "# Expected Output\n",
    "# 10.50, 30\n",
    "\n"
   ]
  },
  {
   "cell_type": "code",
   "execution_count": null,
   "metadata": {},
   "outputs": [],
   "source": [
    "# 10.Create a function show Employee() in such a way that it should accept employee name, and its salary and display both. If the salary is missing in the function call assign default value 9000 to salary\n",
    "# Given:\n",
    "# showEmployee(\"Ben\", 9000)\n",
    "# showEmployee(\"Ben\")\n",
    "# Expected output:\n",
    "# Employee Ben salary is: 9000\n",
    "# Employee Ben salary is: 9000"
   ]
  },
  {
   "cell_type": "code",
   "execution_count": null,
   "metadata": {},
   "outputs": [],
   "source": [
    "\n",
    "# 11.Write a recursive function to calculate the sum of numbers from 0 to 10\n",
    "# Expected Output:\n",
    "# 55\n",
    "# 12.Assign a different name to function and call it through the new name\n",
    "# Below is the function displayStudent(name, age). Assign a new name showStudent(name, age) to it and call through the new name\n",
    "# def displayStudent(name, age):\n",
    "#     print(name, age)\n",
    "\n",
    "# displayStudent(\"Emma\", 26)\n",
    "# You should be able to call the same function using\n",
    "# showStudent(name, age)\n"
   ]
  }
 ]
}