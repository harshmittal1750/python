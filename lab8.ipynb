{
 "metadata": {
  "language_info": {
   "codemirror_mode": {
    "name": "ipython",
    "version": 3
   },
   "file_extension": ".py",
   "mimetype": "text/x-python",
   "name": "python",
   "nbconvert_exporter": "python",
   "pygments_lexer": "ipython3",
   "version": "3.8.6-final"
  },
  "orig_nbformat": 2,
  "kernelspec": {
   "name": "python3",
   "display_name": "Python 3.8.6 64-bit",
   "metadata": {
    "interpreter": {
     "hash": "df0893f56f349688326838aaeea0de204df53a132722cbd565e54b24a8fec5f6"
    }
   }
  }
 },
 "nbformat": 4,
 "nbformat_minor": 2,
 "cells": [
  {
   "cell_type": "code",
   "execution_count": null,
   "metadata": {},
   "outputs": [],
   "source": [
    "\n",
    "# MANAV RACHNA UNIVERSITY, FARIDABAD\n",
    "# Department of Computer & Technology\n",
    "\n",
    "# Course: B.Tech (CST)    \t\t\t                                                       Semester: IV                                                                                                                                 Subject:  Programming for Problem Solving using Python(CSW208B)                 Session: 2020-21\n",
    "\n",
    "# Lab-7: Function- Pass by reference: hands-on practice\n",
    "\n",
    "# Learning Outcome CO:  Student will be able to implement Functions\n",
    "# Blooms Taxonomy Level: BT1,BT3,BT3\n",
    "# Functions\n",
    "\n",
    "\n",
    "\n",
    "\n"
   ]
  },
  {
   "cell_type": "code",
   "execution_count": 11,
   "metadata": {},
   "outputs": [
    {
     "output_type": "stream",
     "name": "stdout",
     "text": [
      "The product is 25\n"
     ]
    }
   ],
   "source": [
    "# 1.Write a program to multiply two numbers using functions.\n",
    "def multi_num(a,b):\n",
    "    multiply=a*b;\n",
    "    return multiply;\n",
    "\n",
    "a = int(input(\"Enter first number\"))\n",
    "b = int(input(\"Enter second number\"))\n",
    "\n",
    "print(\"The product is\",multi_num(a,b))"
   ]
  },
  {
   "cell_type": "code",
   "execution_count": 12,
   "metadata": {},
   "outputs": [
    {
     "output_type": "stream",
     "name": "stdout",
     "text": [
      "The product is 554\n"
     ]
    }
   ],
   "source": [
    "# 2.Write a program to add two numbers using functions.\n",
    "def add_num(a,b):\n",
    "    add=a+b;\n",
    "    return add;\n",
    "\n",
    "a = int(input(\"Enter first number\"))\n",
    "b = int(input(\"Enter second number\"))\n",
    "\n",
    "print(\"The product is\",add_num(a,b))"
   ]
  },
  {
   "cell_type": "code",
   "execution_count": 22,
   "metadata": {},
   "outputs": [
    {
     "output_type": "stream",
     "name": "stdout",
     "text": [
      "The factorial of 10 is 3628800\n"
     ]
    }
   ],
   "source": [
    "# 3.Calculate factorial of a number using function.\n",
    "def recur_factorial(n):  \n",
    "   if n == 1:  \n",
    "       return n  \n",
    "   else:  \n",
    "       return n*recur_factorial(n-1)  \n",
    "\n",
    "num = int(input(\"Enter a number: \"))  \n",
    "\n",
    "if num < 0:  \n",
    "   print(\"Sorry, factorial does not exist for negative numbers\")  \n",
    "elif num == 0:  \n",
    "   print(\"The factorial of 0 is 1\")  \n",
    "else:  \n",
    "   print(\"The factorial of\",num,\"is\",recur_factorial(num))  \n"
   ]
  },
  {
   "cell_type": "code",
   "execution_count": 23,
   "metadata": {},
   "outputs": [
    {
     "output_type": "stream",
     "name": "stdout",
     "text": [
      "Fibonacci sequence:\n0\n1\n1\n2\n3\n5\n8\n13\n21\n34\n"
     ]
    }
   ],
   "source": [
    "# 4.Create sequence of Fibonacci using function.\n",
    "def recur_fibo(n):\n",
    "   if n <= 1:\n",
    "       return n\n",
    "   else:\n",
    "       return(recur_fibo(n-1) + recur_fibo(n-2))\n",
    "\n",
    "nterms = 10\n",
    "\n",
    "\n",
    "if nterms <= 0:\n",
    "   print(\"Plese enter a positive integer\")\n",
    "else:\n",
    "   print(\"Fibonacci sequence:\")\n",
    "   for i in range(nterms):\n",
    "       print(recur_fibo(i))\n"
   ]
  },
  {
   "cell_type": "code",
   "execution_count": 24,
   "metadata": {},
   "outputs": [
    {
     "output_type": "stream",
     "name": "stdout",
     "text": [
      "Before Swapping two Number: num1 = 54.0 and num2 = 5.0\nAfter Swapping two Number: num1 = 5.0 and num2 = 54.0\n"
     ]
    }
   ],
   "source": [
    "# 5.Write a program to swapping of two numbers using functions.\n",
    "def swap_numbers(a, b):\n",
    "    temp = a\n",
    "    a = b\n",
    "    b = temp\n",
    "    \n",
    "    print(\"After Swapping two Number: num1 = {0} and num2 = {1}\".format(a, b))\n",
    " \n",
    "num1 = float(input(\" Please Enter the First Value : \"))\n",
    "num2 = float(input(\" Please Enter the Second Value : \"))\n",
    "\n",
    "print(\"Before Swapping two Number: num1 = {0} and num2 = {1}\".format(num1, num2))\n",
    "swap_numbers(num1, num2)\n"
   ]
  },
  {
   "cell_type": "code",
   "execution_count": 25,
   "metadata": {},
   "outputs": [
    {
     "output_type": "stream",
     "name": "stdout",
     "text": [
      "The H.C.F. is 6\n"
     ]
    }
   ],
   "source": [
    "# 6.Write a function to find the HCF of some given numbers.\n",
    "def compute_hcf(x, y):\n",
    "\n",
    "\n",
    "    if x > y:\n",
    "        smaller = y\n",
    "    else:\n",
    "        smaller = x\n",
    "    for i in range(1, smaller+1):\n",
    "        if((x % i == 0) and (y % i == 0)):\n",
    "            hcf = i \n",
    "    return hcf\n",
    "\n",
    "num1 = 54 \n",
    "num2 = 24\n",
    "\n",
    "print(\"The H.C.F. is\", compute_hcf(num1, num2))"
   ]
  },
  {
   "cell_type": "code",
   "execution_count": 27,
   "metadata": {},
   "outputs": [
    {
     "output_type": "stream",
     "name": "stdout",
     "text": [
      "The ASCII Value of Character h = 104\nThe ASCII Value of Character a = 97\nThe ASCII Value of Character r = 114\nThe ASCII Value of Character s = 115\nThe ASCII Value of Character h = 104\n"
     ]
    }
   ],
   "source": [
    "# 7.Write a function to find the ASCII value of the character.\n",
    "def ascii():\n",
    "    str1 = input(\"Please Enter your Own String : \")\n",
    " \n",
    "    for i in range(len(str1)):\n",
    "        print(\"The ASCII Value of Character %c = %d\" %(str1[i], ord(str1[i])))\n",
    "    return(str1)\n",
    "ascii();"
   ]
  },
  {
   "cell_type": "code",
   "execution_count": 28,
   "metadata": {},
   "outputs": [
    {
     "output_type": "stream",
     "name": "stdout",
     "text": [
      "20\n40\n60\n80\n100\n"
     ]
    }
   ],
   "source": [
    "# 8.Write a function func1() such that it can accept a variable length of  argument and print all arguments value\n",
    "# func1(20, 40, 60)\n",
    "# func1(80, 100)\n",
    "# Expected Output:\n",
    "# func1(20, 40, 60)\n",
    "# 20\n",
    "# 40\n",
    "# 60\n",
    "# func1(80, 100)\n",
    "# 9.80\n",
    "# 10.100\n",
    "\n",
    "def func1(*args):\n",
    "    for i in args:\n",
    "        print(i)\n",
    "\n",
    "func1(20, 40, 60)\n",
    "func1(80, 100)\n"
   ]
  },
  {
   "cell_type": "code",
   "execution_count": 31,
   "metadata": {},
   "outputs": [
    {
     "output_type": "stream",
     "name": "stdout",
     "text": [
      "(50, 30)\n"
     ]
    }
   ],
   "source": [
    " #9.Write a function calculation () such that it can accept two variables and calculate the addition and subtraction of them. And also it must return both addition and subtraction in a single return call\n",
    "# def calculation(a, b):\n",
    "#      Your Code\n",
    "\n",
    "# res = calculation(40, 10)\n",
    "# print(res)\n",
    "# Expected Output\n",
    "# 10.50, 30\n",
    "def calculation(a, b):\n",
    "    return a+b, a-b\n",
    "\n",
    "res = calculation(40, 10)\n",
    "print(res)\n",
    "\n"
   ]
  },
  {
   "cell_type": "code",
   "execution_count": 29,
   "metadata": {},
   "outputs": [
    {
     "output_type": "stream",
     "name": "stdout",
     "text": [
      "Employee Ben salary is: 9000\nEmployee Ben salary is: 9000\n"
     ]
    }
   ],
   "source": [
    "# 10.Create a function show Employee() in such a way that it should accept employee name, and its salary and display both. If the salary is missing in the function call assign default value 9000 to salary\n",
    "# Given:\n",
    "# showEmployee(\"Ben\", 9000)\n",
    "# showEmployee(\"Ben\")\n",
    "# Expected output:\n",
    "# Employee Ben salary is: 9000\n",
    "# Employee Ben salary is: 9000\n",
    "def showEmployee(name, salary=9000):\n",
    "    print(\"Employee\", name, \"salary is:\", salary)\n",
    "\n",
    "showEmployee(\"Ben\", 9000)\n",
    "showEmployee(\"Ben\")"
   ]
  },
  {
   "cell_type": "code",
   "execution_count": 32,
   "metadata": {},
   "outputs": [
    {
     "output_type": "stream",
     "name": "stdout",
     "text": [
      "55\n"
     ]
    }
   ],
   "source": [
    "\n",
    "# 11.Write a recursive function to calculate the sum of numbers from 0 to 10\n",
    "# Expected Output:\n",
    "# 55\n",
    "def calculateSum(num):\n",
    "    if num:\n",
    "        return num + calculateSum(num-1)\n",
    "    else:\n",
    "        return 0\n",
    "\n",
    "res = calculateSum(10)\n",
    "print(res)\n"
   ]
  },
  {
   "cell_type": "code",
   "execution_count": 30,
   "metadata": {},
   "outputs": [
    {
     "output_type": "stream",
     "name": "stdout",
     "text": [
      "Emma 26\nEmma 26\n"
     ]
    }
   ],
   "source": [
    "# 12.Assign a different name to function and call it through the new name\n",
    "# Below is the function displayStudent(name, age). Assign a new name showStudent(name, age) to it and call through the new name\n",
    "# def displayStudent(name, age):\n",
    "#     print(name, age)\n",
    "\n",
    "# displayStudent(\"Emma\", 26)\n",
    "# You should be able to call the same function using\n",
    "# showStudent(name, age)\n",
    "def displayStudent(name, age):\n",
    "    print(name, age)\n",
    "\n",
    "displayStudent(\"Emma\", 26)\n",
    "\n",
    "showStudent = displayStudent\n",
    "showStudent(\"Emma\", 26)"
   ]
  },
  {
   "cell_type": "code",
   "execution_count": null,
   "metadata": {},
   "outputs": [],
   "source": []
  }
 ]
}