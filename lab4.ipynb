{
 "metadata": {
  "language_info": {
   "codemirror_mode": {
    "name": "ipython",
    "version": 3
   },
   "file_extension": ".py",
   "mimetype": "text/x-python",
   "name": "python",
   "nbconvert_exporter": "python",
   "pygments_lexer": "ipython3",
   "version": "3.8.5-final"
  },
  "orig_nbformat": 2,
  "kernelspec": {
   "name": "python3",
   "display_name": "Python 3",
   "language": "python"
  }
 },
 "nbformat": 4,
 "nbformat_minor": 2,
 "cells": [
  {
   "cell_type": "code",
   "execution_count": 33,
   "metadata": {},
   "outputs": [
    {
     "output_type": "stream",
     "name": "stdout",
     "text": [
      "Sum of all the elements in given list: 5018\n"
     ]
    }
   ],
   "source": [
    "# 1. Write a Python program to sum all the items in a list. \n",
    "sum=0\n",
    "firstList=[121,23,121,3,232,4453,23,42]\n",
    "for x in  range(0,len(firstList)):\n",
    "    sum=sum+firstList[x]\n",
    "print(\"Sum of all the elements in given list:\",sum)"
   ]
  },
  {
   "cell_type": "code",
   "execution_count": 24,
   "metadata": {},
   "outputs": [
    {
     "output_type": "stream",
     "name": "stdout",
     "text": [
      "89913600\n"
     ]
    }
   ],
   "source": [
    "#  2. Write a Python program to multiplies all the items in a list.  \n",
    "def multiply_list(items):\n",
    "    tot = 1\n",
    "    for x in items:\n",
    "        tot *= x\n",
    "    return tot\n",
    "print(multiply_list([1,4,5,6,5,223,42,2,8]))\n"
   ]
  },
  {
   "cell_type": "code",
   "execution_count": 30,
   "metadata": {},
   "outputs": [
    {
     "output_type": "stream",
     "name": "stdout",
     "text": [
      "Largest element is: 99\n"
     ]
    }
   ],
   "source": [
    "# 3. Write a Python program to get the largest number from a list\n",
    "\n",
    "\n",
    "def myMax(list1): \n",
    "\n",
    "\tmax = list1[0] \n",
    "\n",
    "\n",
    "\tfor x in list1: \n",
    "\t\tif x > max : \n",
    "\t\t\tmax = x \n",
    "\t\n",
    "\t\n",
    "\treturn max\n",
    "\n",
    "\n",
    "list1 = [10, 20, 4, 45, 99] \n",
    "print(\"Largest element is:\", myMax(list1)) \n"
   ]
  },
  {
   "cell_type": "code",
   "execution_count": 31,
   "metadata": {},
   "outputs": [
    {
     "output_type": "stream",
     "name": "stdout",
     "text": [
      "The list is  ['5', '45', '412', '1', '4']\nThe smallest element in the list is  1\n"
     ]
    }
   ],
   "source": [
    "# 4. Write a Python program to get the smallest number from a list. \n",
    "l=[l for l in input(\"List:\").split(\",\")] \n",
    "print(\"The list is \",l) \n",
    "  \n",
    "min1 = l[0] \n",
    "  \n",
    "for i in range(len(l)): \n",
    "  \n",
    "\n",
    "    if l[i] < min1:  \n",
    "        min1 = l[i] \n",
    "  \n",
    "print(\"The smallest element in the list is \",min1) \n"
   ]
  },
  {
   "cell_type": "code",
   "execution_count": 44,
   "metadata": {},
   "outputs": [
    {
     "output_type": "stream",
     "name": "stdout",
     "text": [
      "2\n"
     ]
    }
   ],
   "source": [
    "#  5. Write a Python program to count the number of strings where the string length is 2 or more and the first and last character are same from a given list of strings \n",
    "# Sample List : ['abc', 'xyz', 'aba', '1221']\n",
    "# Expected Result : 2\n",
    "\n",
    "def match_words(words):\n",
    "  ctr = 0\n",
    "\n",
    "  for word in words:\n",
    "    if len(word) > 1 and word[0] == word[-1]:\n",
    "      ctr += 1\n",
    "  return ctr\n",
    "\n",
    "print(match_words(['abc', 'xyz', 'aba', '1221']))\n"
   ]
  },
  {
   "cell_type": "code",
   "execution_count": 45,
   "metadata": {},
   "outputs": [
    {
     "output_type": "stream",
     "name": "stdout",
     "text": [
      "[(2, 1), (1, 2), (2, 3), (4, 4), (2, 5)]\n"
     ]
    }
   ],
   "source": [
    "# 6. Write a Python program to get a list, sorted in increasing order by the last element in each tuple from a given list of non-empty tuples.  \n",
    "# Sample List : [(2, 5), (1, 2), (4, 4), (2, 3), (2, 1)]\n",
    "# Expected Result : [(2, 1), (1, 2), (2, 3), (4, 4), (2, 5)]\n",
    "def last(n): return n[-1]\n",
    "\n",
    "def sort_list_last(tuples):\n",
    "  return sorted(tuples, key=last)\n",
    "\n",
    "print(sort_list_last([(2, 5), (1, 2), (4, 4), (2, 3), (2, 1)]))\n"
   ]
  },
  {
   "cell_type": "code",
   "execution_count": 43,
   "metadata": {},
   "outputs": [
    {
     "output_type": "stream",
     "name": "stdout",
     "text": [
      "[2, 4, 5, 10, 20]\n"
     ]
    }
   ],
   "source": [
    "# 7. Write a Python program to remove duplicates from a list. \n",
    "\n",
    "duplicate = [2, 4, 10, 20, 5, 2, 20, 4]\n",
    "print(list(set(duplicate)))"
   ]
  },
  {
   "cell_type": "code",
   "execution_count": 42,
   "metadata": {},
   "outputs": [
    {
     "output_type": "stream",
     "name": "stdout",
     "text": [
      "[2, 2]\nlist is not empty\n"
     ]
    }
   ],
   "source": [
    "#  8. Write a Python program to check a list is empty or not. \n",
    "\n",
    "lst = [] \n",
    "\n",
    "n = int(input(\"Enter number of elements : \")) \n",
    "\n",
    "\n",
    "for i in range(0, n): \n",
    "\tele = int(input()) \n",
    "\n",
    "\tlst.append(ele) \n",
    "\t\n",
    "print(lst) \n",
    "\n",
    "if len(lst)==0:\n",
    "    print (\"list is empty\")\n",
    "else:\n",
    "    print (\"list is not empty\")\n",
    "\n"
   ]
  },
  {
   "cell_type": "code",
   "execution_count": 39,
   "metadata": {},
   "outputs": [
    {
     "output_type": "stream",
     "name": "stdout",
     "text": [
      "Original List: [4, 8, 2, 10, 15, 18]\nAfter Cloning: [4, 8, 2, 10, 15, 18]\n"
     ]
    }
   ],
   "source": [
    "#  9. Write a Python program to clone or copy a list. \n",
    "def Cloning(li1): \n",
    "    li_copy =[] \n",
    "    li_copy = li1.copy() \n",
    "    return li_copy \n",
    "  \n",
    "\n",
    "li1 = [4, 8, 2, 10, 15, 18] \n",
    "li2 = Cloning(li1) \n",
    "print(\"Original List:\", li1) \n",
    "print(\"After Cloning:\", li2) "
   ]
  },
  {
   "cell_type": "code",
   "execution_count": 38,
   "metadata": {},
   "outputs": [
    {
     "output_type": "stream",
     "name": "stdout",
     "text": [
      "['Hello', 'full', 'stack', 'developer']\n"
     ]
    }
   ],
   "source": [
    "#  10. Write a Python program to find the list of words that are longer than n from a given list of words.  \n",
    "def long_words(n, str):\n",
    "    word_len = []\n",
    "    txt = str.split(\" \")\n",
    "    for x in txt:\n",
    "        if len(x) > n:\n",
    "            word_len.append(x)\n",
    "    return word_len\t\n",
    "print(long_words(3, \"Hello i m a full stack web developer\"))\n"
   ]
  },
  {
   "cell_type": "code",
   "execution_count": 36,
   "metadata": {},
   "outputs": [
    {
     "output_type": "stream",
     "name": "stdout",
     "text": [
      "True\nFalse\n"
     ]
    }
   ],
   "source": [
    "# 11. Write a Python function that takes two lists and returns True if they have at least one common member.  \n",
    "def common_member(a, b): \n",
    "    a_set = set(a) \n",
    "    b_set = set(b) \n",
    "    if len(a_set.intersection(b_set)) > 0: \n",
    "        return(True)  \n",
    "    return(False)    \n",
    "  \n",
    "a = [1, 2, 3, 4, 5] \n",
    "b = [5, 6, 7, 8, 9] \n",
    "print(common_member(a, b)) \n",
    "  \n",
    "a =[1, 2, 3, 4, 5] \n",
    "b =[6, 7, 8, 9] \n",
    "print(common_member(a, b)) "
   ]
  },
  {
   "cell_type": "code",
   "execution_count": 46,
   "metadata": {},
   "outputs": [
    {
     "output_type": "stream",
     "name": "stdout",
     "text": [
      "['Green', 'White', 'Black']\n"
     ]
    }
   ],
   "source": [
    "# 12. Write a Python program to print a specified list after removing the 0th, 4th and 5th elements.  \n",
    "# Sample List : ['Red', 'Green', 'White', 'Black', 'Pink', 'Yellow']\n",
    "# Expected Output : ['Green', 'White', 'Black']\n",
    "color = ['Red', 'Green', 'White', 'Black', 'Pink', 'Yellow']\n",
    "color = [x for (i,x) in enumerate(color) if i not in (0,4,5)]\n",
    "print(color)"
   ]
  },
  {
   "cell_type": "code",
   "execution_count": null,
   "metadata": {},
   "outputs": [],
   "source": []
  }
 ]
}